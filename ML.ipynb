{
  "cells": [
    {
      "cell_type": "markdown",
      "metadata": {
        "id": "view-in-github",
        "colab_type": "text"
      },
      "source": [
        "<a href=\"https://colab.research.google.com/github/salvatorxx/Sentiment-Analysis/blob/main/ML.ipynb\" target=\"_parent\"><img src=\"https://colab.research.google.com/assets/colab-badge.svg\" alt=\"Open In Colab\"/></a>"
      ]
    },
    {
      "cell_type": "markdown",
      "metadata": {
        "id": "cjVe7aYOH1cW"
      },
      "source": [
        "Import Library that needed"
      ]
    },
    {
      "cell_type": "code",
      "execution_count": null,
      "metadata": {
        "id": "CD3NhjvEHfpD"
      },
      "outputs": [],
      "source": [
        "import nltk\n",
        "\n",
        "import numpy as np\n",
        "import matplotlib.pyplot as plt\n",
        "import seaborn as sns\n",
        "import pandas as pd\n",
        "import re \n",
        "import string\n",
        "\n",
        "from nltk.corpus import stopwords\n",
        "from nltk.stem import PorterStemmer\n",
        "from nltk.tokenize import TweetTokenizer\n",
        "import tweepy as tw\n",
        "\n",
        "\n",
        "from sklearn.metrics import r2_score\n"
      ]
    },
    {
      "cell_type": "code",
      "execution_count": null,
      "metadata": {
        "colab": {
          "base_uri": "https://localhost:8080/"
        },
        "id": "Khp1MTyZHjgR",
        "outputId": "ec3edaf3-f776-42de-ddf3-f0d77b54ec3c"
      },
      "outputs": [
        {
          "output_type": "stream",
          "name": "stderr",
          "text": [
            "[nltk_data] Downloading package stopwords to /root/nltk_data...\n",
            "[nltk_data]   Package stopwords is already up-to-date!\n"
          ]
        },
        {
          "output_type": "execute_result",
          "data": {
            "text/plain": [
              "True"
            ]
          },
          "metadata": {},
          "execution_count": 27
        }
      ],
      "source": [
        "nltk.download('stopwords')"
      ]
    },
    {
      "cell_type": "markdown",
      "metadata": {
        "id": "DMl3BoXFH1cZ"
      },
      "source": [
        "Read data set positive and negative dataset"
      ]
    },
    {
      "cell_type": "code",
      "execution_count": null,
      "metadata": {
        "id": "z0sRgTNGH1cZ"
      },
      "outputs": [],
      "source": [
        "Positive_Dataset = pd.read_csv(\n",
        "    'https://raw.githubusercontent.com/NatanaelGeraldoS/Machine-Learning/main/Dataset%201%20Happy.txt', names=['Text'], sep='|')\n",
        "Negative_Dataset = pd.read_csv(\n",
        "    'https://raw.githubusercontent.com/NatanaelGeraldoS/Machine-Learning/main/Negative%20Dataset.txt', names=['Text'], sep='|')"
      ]
    },
    {
      "cell_type": "code",
      "execution_count": null,
      "metadata": {
        "id": "RLPNnYw3HrVB"
      },
      "outputs": [],
      "source": [
        "def CleaningData(Text):\n",
        "  stopwords_english = stopwords.words('english')\n",
        "\n",
        "  Text = re.sub(r'\\$\\w*', '', Text)\n",
        "\n",
        "  Text = re.sub(r'^RT[\\s]+', '', Text)\n",
        "\n",
        "  # Menghapus Link HTTPS dkk\n",
        "  Text = re.sub(r'https?:\\/\\/.*[\\r\\n]*', '', Text)\n",
        "\n",
        "  # Menghapus Hastag\n",
        "  Text = re.sub(r'#', '', Text)\n",
        "\n",
        "  tokenizer = TweetTokenizer(preserve_case=False, reduce_len=True, strip_handles=True)\n",
        "  tweet_tokens = tokenizer.tokenize(Text)\n",
        "\n",
        "  TextClean = []\n",
        "\n",
        "  for word in tweet_tokens:\n",
        "    if (word not in stopwords_english and\n",
        "        word not in string.punctuation):\n",
        "      TextClean.append(word)\n",
        "  \n",
        "  return TextClean\n"
      ]
    },
    {
      "cell_type": "code",
      "execution_count": null,
      "metadata": {
        "id": "l0k4y2DGHtWf"
      },
      "outputs": [],
      "source": [
        "def FreqsCalculation(tweets, ys):\n",
        "  yslist = np.squeeze(ys).tolist()\n",
        "  tweetsData = np.squeeze(tweets).tolist()\n",
        "  freqs = {}\n",
        "  for y, tweet in zip(yslist, tweetsData):\n",
        "    for word in CleaningData(tweet):\n",
        "      pair = (word, y)\n",
        "      if pair in freqs:\n",
        "        freqs[pair]+=1\n",
        "      else:\n",
        "        freqs[pair] =1\n",
        "  return freqs\n"
      ]
    },
    {
      "cell_type": "code",
      "execution_count": null,
      "metadata": {
        "id": "KmswLWcdH6tH"
      },
      "outputs": [],
      "source": [
        "# Split dataset into Training and testing dataset\n",
        "Train_Positive = Positive_Dataset.iloc[:550]\n",
        "Test_Positive = Positive_Dataset[138:]\n",
        "\n",
        "Train_Negative = Negative_Dataset[:550]\n",
        "Test_Negative = Negative_Dataset[138:]\n",
        "\n",
        "train_x = Train_Positive.values.tolist() + Train_Negative.values.tolist()\n",
        "test_x = Test_Positive.values.tolist() + Test_Negative.values.tolist()\n",
        "\n",
        "train_y = np.append(np.ones((len(Train_Positive), 1)), np.zeros((len(Train_Negative), 1)), axis=0)\n",
        "test_y = np.append(np.ones((len(Test_Positive), 1)), np.zeros((len(Test_Negative), 1)), axis=0)\n"
      ]
    },
    {
      "cell_type": "code",
      "execution_count": null,
      "metadata": {
        "colab": {
          "base_uri": "https://localhost:8080/"
        },
        "id": "2xMjXrwAH9hu",
        "outputId": "14e6803e-88a9-4cd0-ceb5-79194fe16522"
      },
      "outputs": [
        {
          "output_type": "stream",
          "name": "stdout",
          "text": [
            "Type of freqs :  <class 'dict'>\n",
            "Length of freqs :  1241\n"
          ]
        }
      ],
      "source": [
        "# create a frequency dictionary\n",
        "freqs = FreqsCalculation(train_x, train_y)\n",
        "\n",
        "print('Type of freqs : ', type(freqs))\n",
        "print('Length of freqs : ', len(freqs))"
      ]
    },
    {
      "cell_type": "code",
      "execution_count": null,
      "metadata": {
        "id": "K1lqRcGxH1cf"
      },
      "outputs": [],
      "source": [
        "class gradient_descent:\n",
        "  def __init__(self, nvar):\n",
        "    self.intercept = 0\n",
        "    self.theta = np.random.randn(nvar)\n",
        "\n",
        "  def sigmoid(self, y):\n",
        "    return 1/(1 + np.exp((-1)*y))\n",
        "\n",
        "  def predict(self, X, theta, intercept):\n",
        "    Dotproduct = np.dot(X, self.theta)\n",
        "    y_raw = np.array(intercept + Dotproduct)\n",
        "    y_pred = self.sigmoid(y_raw)\n",
        "    return y_pred\n",
        "\n",
        "  def update_theta(self, X, y, y_pred, alpha):\n",
        "    deriv_theta = np.dot((y_pred - y), X)\n",
        "    return self.theta - (alpha * deriv_theta)\n",
        "\n",
        "  def update_intercept(self, y, y_pred, alpha):\n",
        "    deriv_intercept = np.sum(y_pred - y)\n",
        "    return self.intercept - (alpha * deriv_intercept)\n",
        "\n",
        "  def cross_entropy(self, y, y_pred):\n",
        "    # ce = np.dot((-1 * y), np.log(y_pred)) - np.dot((1 - y), np.log(1 - y_pred))\n",
        "    ce = -1 * sum(y*np.log(y_pred) + (1-y)*np.log(1-y_pred))\n",
        "    return ce\n",
        "\n",
        "  def fit(self, X, y, epochs, alpha):\n",
        "    loss = []\n",
        "\n",
        "    for i in range(epochs):\n",
        "      y_pred = self.predict(X, self.theta, self.intercept)\n",
        "      self.theta = self.update_theta(X, y, y_pred, alpha)\n",
        "      self.intercept = self.update_intercept(y, y_pred, alpha)\n",
        "      loss.append(self.cross_entropy(y, y_pred))\n",
        "      # if i % 100 == 0:\n",
        "      #   print(f'[{i}] Loss: {loss[i]}')\n",
        "\n",
        "    return loss\n"
      ]
    },
    {
      "cell_type": "code",
      "execution_count": null,
      "metadata": {
        "id": "DxrbYhkNH1cg"
      },
      "outputs": [],
      "source": [
        "Test = []\n",
        "for i in train_y:\n",
        "    Test.append(i[0])\n",
        "Test = np.array(Test)\n"
      ]
    },
    {
      "cell_type": "code",
      "source": [
        "# Extract features\n",
        "def extract_features(Text, freqs):\n",
        "  word_l = CleaningData(Text)\n",
        "  x = np.zeros((1, 3))\n",
        "  x[0, 0] = 1\n",
        "\n",
        "  for word in word_l:\n",
        "    x[0, 1] += freqs.get((word, 1), 0)\n",
        "    x[0, 2] += freqs.get((word, 0), 0)\n",
        "\n",
        "  assert(x.shape==(1, 3))\n",
        "  return x\n"
      ],
      "metadata": {
        "id": "-cujcJVG_1eu"
      },
      "execution_count": null,
      "outputs": []
    },
    {
      "cell_type": "code",
      "execution_count": null,
      "metadata": {
        "colab": {
          "base_uri": "https://localhost:8080/"
        },
        "id": "XqQvdH1JH1cg",
        "outputId": "9e0c6498-87f3-45d0-85fa-99f676bc3bc0"
      },
      "outputs": [
        {
          "output_type": "stream",
          "name": "stdout",
          "text": [
            "3e-05\n",
            "Intercept: -0.7689497297993227\n",
            "Theta: [ 0.46621223  0.251297   -0.21604381]\n"
          ]
        },
        {
          "output_type": "stream",
          "name": "stderr",
          "text": [
            "/usr/local/lib/python3.7/dist-packages/ipykernel_launcher.py:25: RuntimeWarning: divide by zero encountered in log\n",
            "/usr/local/lib/python3.7/dist-packages/ipykernel_launcher.py:25: RuntimeWarning: invalid value encountered in multiply\n"
          ]
        },
        {
          "output_type": "stream",
          "name": "stdout",
          "text": [
            "4e-05\n",
            "Intercept: -0.6687191153307092\n",
            "Theta: [ 0.30969572  0.25342666 -0.21564832]\n",
            "2.5e-05\n",
            "Intercept: -0.3602601027575317\n",
            "Theta: [ 0.03743875  0.25204393 -0.21589046]\n"
          ]
        }
      ],
      "source": [
        "all_loss = []\n",
        "X = np.zeros((len(train_x), 3))\n",
        "for i in range(len(train_x)):\n",
        "  X[i, :] = extract_features(train_x[i][0], freqs)\n",
        "Y = Test\n",
        "for alpha in [0.00003, 0.00004, 0.000025]:\n",
        "  model = gradient_descent(X.shape[1])\n",
        "  epochs = 1500\n",
        "  loss = model.fit(X, Y, epochs, alpha)\n",
        "  print(f'{alpha}')\n",
        "  print(f'Intercept: {model.intercept}')\n",
        "  print(f'Theta: {model.theta}')\n",
        "  all_loss.append([alpha, loss])\n"
      ]
    },
    {
      "cell_type": "code",
      "execution_count": null,
      "metadata": {
        "colab": {
          "base_uri": "https://localhost:8080/",
          "height": 406
        },
        "id": "UkeXMgIQH1ch",
        "outputId": "c7a6f81b-6390-4d77-fd28-f6f0082fcfd8"
      },
      "outputs": [
        {
          "output_type": "display_data",
          "data": {
            "text/plain": [
              "<Figure size 720x432 with 1 Axes>"
            ],
            "image/png": "[encoded data removed]"
          },
          "metadata": {
            "needs_background": "light"
          }
        }
      ],
      "source": [
        "# View semua proses penurunan loss untuk alpha yang berbeda\n",
        "plt.figure(figsize=(10, 6))\n",
        "for i in range(len(all_loss)):\n",
        "  plt.plot(np.arange(1, epochs), all_loss[i][1][1:], label=all_loss[i][0])\n",
        "\n",
        "plt.title('Epochs vs Loss', fontsize=16)\n",
        "plt.xlabel(\"Epochs\")\n",
        "plt.ylabel(\"Loss\")\n",
        "plt.legend()\n",
        "plt.show()"
      ]
    },
    {
      "cell_type": "code",
      "execution_count": null,
      "metadata": {
        "colab": {
          "base_uri": "https://localhost:8080/"
        },
        "id": "o8PIEEckH1ch",
        "outputId": "adba4e2d-b018-4ffa-fbd2-29cc92e5136e"
      },
      "outputs": [
        {
          "output_type": "stream",
          "name": "stderr",
          "text": [
            "/usr/local/lib/python3.7/dist-packages/ipykernel_launcher.py:25: RuntimeWarning: divide by zero encountered in log\n",
            "/usr/local/lib/python3.7/dist-packages/ipykernel_launcher.py:25: RuntimeWarning: invalid value encountered in multiply\n"
          ]
        }
      ],
      "source": [
        "# Kita bangun model baru dengan epoch 1500 dan learning rate 0.00003\n",
        "model = gradient_descent(X.shape[1])\n",
        "epochs = 1500\n",
        "_ = model.fit(X, Y, epochs, 0.00003)\n"
      ]
    },
    {
      "cell_type": "code",
      "execution_count": null,
      "metadata": {
        "colab": {
          "base_uri": "https://localhost:8080/"
        },
        "id": "ZHR85P5sH1ch",
        "outputId": "2f00f716-e98a-4462-a940-44e5d56b2c89"
      },
      "outputs": [
        {
          "output_type": "execute_result",
          "data": {
            "text/plain": [
              "-1.286694981821877"
            ]
          },
          "metadata": {},
          "execution_count": 223
        }
      ],
      "source": [
        "b = model.intercept\n",
        "b\n"
      ]
    },
    {
      "cell_type": "code",
      "execution_count": null,
      "metadata": {
        "colab": {
          "base_uri": "https://localhost:8080/"
        },
        "id": "N_xb3AKbH1ch",
        "outputId": "ee291d8f-ef4e-418c-a460-2e832deab215"
      },
      "outputs": [
        {
          "output_type": "execute_result",
          "data": {
            "text/plain": [
              "array([ 1.03983354,  0.24929484, -0.21654209])"
            ]
          },
          "metadata": {},
          "execution_count": 224
        }
      ],
      "source": [
        "w = model.theta\n",
        "w\n"
      ]
    },
    {
      "cell_type": "code",
      "execution_count": null,
      "metadata": {
        "id": "aPvhJbgOH1ci"
      },
      "outputs": [],
      "source": [
        "def cross_entropy(y, y_pred):\n",
        "    ce = np.dot((-1 * y), np.log(y_pred)) - np.dot((1 - y), np.log(1 - y_pred))\n",
        "    return ce\n",
        "\n",
        "\n",
        "def threshold(y):\n",
        "  return [1 if i >= 0.5 else 0 for i in y]\n"
      ]
    },
    {
      "cell_type": "code",
      "execution_count": null,
      "metadata": {
        "id": "wowaNOfOH1ci"
      },
      "outputs": [],
      "source": [
        "Test_y_List = []\n",
        "for i in test_y:\n",
        "    Test_y_List.append(i[0])\n",
        "Test_y_List = np.array(Test_y_List)\n"
      ]
    },
    {
      "cell_type": "code",
      "execution_count": null,
      "metadata": {
        "id": "wNOAXbwEH1ci"
      },
      "outputs": [],
      "source": [
        "X = np.zeros((len(test_x), 3))\n",
        "for i in range(len(test_x)):\n",
        "  X[i, :] = extract_features(test_x[i][0], freqs)\n",
        "y_pred_raw = model.predict(X, w, b)\n",
        "y_pred = threshold(y_pred_raw)\n",
        "Data = pd.DataFrame({\n",
        "    'y_true': Test_y_List,\n",
        "    'y_pred': y_pred,\n",
        "    'y_pred_raw': y_pred_raw\n",
        "})\n"
      ]
    },
    {
      "cell_type": "code",
      "execution_count": null,
      "metadata": {
        "colab": {
          "base_uri": "https://localhost:8080/"
        },
        "id": "Y4C2HsioH1ci",
        "outputId": "2d6310b0-a3c3-40eb-aa6a-0f883fd83f0b"
      },
      "outputs": [
        {
          "output_type": "stream",
          "name": "stdout",
          "text": [
            "Accuracy :  0.9320388349514563\n"
          ]
        }
      ],
      "source": [
        "total = 0\n",
        "correct = 0\n",
        "for i in range(len(Data)):\n",
        "    total = total+1\n",
        "    if(Data['y_true'][i] == Data['y_pred'][i]):\n",
        "        correct = correct + 1\n",
        "print(\"Accuracy : \", correct/total)\n",
        "\n"
      ]
    },
    {
      "cell_type": "code",
      "source": [
        "from sklearn.metrics import confusion_matrix\n",
        "ConfusionMatrix = confusion_matrix(Data['y_true'], Data['y_pred'])\n",
        "ConfusionMatrix"
      ],
      "metadata": {
        "colab": {
          "base_uri": "https://localhost:8080/"
        },
        "id": "ZKHUwsqcLn8P",
        "outputId": "fae827ae-d539-4e46-ee4e-ebe2bc9466a6"
      },
      "execution_count": null,
      "outputs": [
        {
          "output_type": "execute_result",
          "data": {
            "text/plain": [
              "array([[190,  16],\n",
              "       [ 12, 194]])"
            ]
          },
          "metadata": {},
          "execution_count": 229
        }
      ]
    },
    {
      "cell_type": "code",
      "source": [
        "import seaborn as sb\n",
        "a = plt.subplot()\n",
        "\n",
        "sb.heatmap(pd.DataFrame(ConfusionMatrix), annot=True)\n",
        "a.xaxis.set_label_position(\"top\")\n",
        "plt.tight_layout()\n",
        "plt.title('Confusion matrix', y=1.1)\n",
        "plt.ylabel('Actual label')\n",
        "plt.xlabel('Predicted label')"
      ],
      "metadata": {
        "colab": {
          "base_uri": "https://localhost:8080/",
          "height": 342
        },
        "id": "CFGY1-nGMlFY",
        "outputId": "f8bb5321-4281-4c24-bbaf-530ed5f2d8ed"
      },
      "execution_count": null,
      "outputs": [
        {
          "output_type": "execute_result",
          "data": {
            "text/plain": [
              "Text(0.5, 257.44, 'Predicted label')"
            ]
          },
          "metadata": {},
          "execution_count": 230
        },
        {
          "output_type": "display_data",
          "data": {
            "text/plain": [
              "<Figure size 432x288 with 2 Axes>"
            ],
            "image/png": "[encoded data removed]"
          },
          "metadata": {
            "needs_background": "light"
          }
        }
      ]
    },
    {
      "cell_type": "code",
      "execution_count": null,
      "metadata": {
        "id": "rF2QwJ5yH1cj"
      },
      "outputs": [],
      "source": [
        "search_query = \"#covid19 -filter:retweets\""
      ]
    },
    {
      "cell_type": "code",
      "execution_count": null,
      "metadata": {
        "colab": {
          "base_uri": "https://localhost:8080/"
        },
        "id": "VLoLUEqVH1cj",
        "outputId": "c3517240-c979-43fb-f4f4-5699299a5c65"
      },
      "outputs": [
        {
          "output_type": "stream",
          "name": "stdout",
          "text": [
            "Total Tweets fetched: 15\n"
          ]
        }
      ],
      "source": [
        "consumer_key = 'vQguXDo1EvFAPPXqVV6BmG4TU'\n",
        "consumer_secret = 'DKpvaRCs9N9M6XLU2jgu2xeyB5ywoEaqpaA5yhjb0T7ObhrO3I'\n",
        "access_token = '710417521493475328-55N475XGnlnhnPZitKj1U0MPTloB3SQ'\n",
        "access_token_secret = '5ANRhbSvl0mhYdJWI4hK0jD11ChyUKGCCkqK9odSWi16H'\n",
        "\n",
        "auth = tw.OAuthHandler(consumer_key, consumer_secret)\n",
        "auth.set_access_token(access_token, access_token_secret)\n",
        "api = tw.API(auth)\n",
        "\n",
        "tweets = tw.Cursor(api.search,\n",
        "                   q=search_query,\n",
        "                   lang=\"en\",\n",
        "                   since=\"2022-04-01\").items(15)\n",
        "TweetData = []\n",
        "for tweet in tweets:\n",
        "    TweetData.append(tweet)\n",
        "\n",
        "print(\"Total Tweets fetched:\", len(TweetData))\n"
      ]
    },
    {
      "cell_type": "code",
      "execution_count": null,
      "metadata": {
        "colab": {
          "base_uri": "https://localhost:8080/"
        },
        "id": "Sl8RZcTlH1cj",
        "outputId": "44ab1822-f03d-4383-9dd7-f5f409dbffde"
      },
      "outputs": [
        {
          "output_type": "stream",
          "name": "stdout",
          "text": [
            "@politico So @GovRonDeSantis takes away options from parents in fighting #COVID19 , what’s the logic in that? #DeathSantis\n",
            "0\n",
            "Negative\n",
            "\n",
            "\n",
            "How to increase your Practice Revenue with Mobile Patient Applications?\n",
            "Read the article to learn more\n",
            "https://t.co/KRDRUlX5is\n",
            "#ehr #healthcare #emr #healthcareIT #health #medical #ukraine #russia #NewsAlert #LizCheney #COVID19 #healthcarecrisis\n",
            "1\n",
            "Positive\n",
            "\n",
            "\n",
            "COVID-19? Allergies? Common cold? Find out: The County’s no-cost @curative #COVID19 testing kiosks are open daily and accept walk-ins. \n",
            "\n",
            "Learn more: https://t.co/yFBRh5fYJC. \n",
            "\n",
            "#arlingtonva https://t.co/XdUH49cHt0\n",
            "0\n",
            "Negative\n",
            "\n",
            "\n",
            "\"Nepal reported 34 new Covid-19 cases on Friday\"\n",
            "#Nepal #COVID19 \n",
            "https://t.co/cztR7LoT94\n",
            "1\n",
            "Positive\n",
            "\n",
            "\n",
            "@picardonhealth @JenLeeCBC @CBCNews @ZiadFazel Is this the same attitude #nurses are dealing with ? We need doctors and nurses - not taxi drivers … #COVID19 has brought to light the serious need for #healthcare #onhealth\n",
            "0\n",
            "Negative\n",
            "\n",
            "\n",
            "No surprise the #COVID19 figures for deaths within 28 days have changed again. So, from 6th: 52; 38; 38; 39; 51; 36; 25. Right now 268 people lost their lives last week but that's down from the week before. This week 33, 21 and 3 are all down. https://t.co/dHm0TDoDvZ\n",
            "0\n",
            "Negative\n",
            "\n",
            "\n",
            "7 Day Confirmed Covid Cases per 1K Population by County For VA   2022-06-13:  Latest Covid Insights by Our Analytics Team using USAFacts #datavisualization #datascience #analytics #healthtech #data #covid19 #publichealth #covid #globalhealth https://t.co/fBF2G5TwEV\n",
            "1\n",
            "Positive\n",
            "\n",
            "\n",
            "Enjoying the commemorative art instalation @RoyalPapworth, those that lost lives in #covid19. Great company with hubz @Stevebenjy on our lunch break, beautiful weather #SummerVibes #lovemyjob #FridayFeeling https://t.co/xpGh5SA0kC\n",
            "1\n",
            "Positive\n",
            "\n",
            "\n",
            "7 Day Confirmed Covid Cases per 1K Population by County For VT   2022-06-13:  Latest Covid Insights by Our Analytics Team using USAFacts #datavisualization #datascience #analytics #healthtech #data #covid19 #publichealth #covid #globalhealth https://t.co/9p6ynkDbAq\n",
            "1\n",
            "Positive\n",
            "\n",
            "\n",
            "@MattHancock Matt, these have already come to pass in terms of the harms caused to the #NHS &amp; excess deaths by #Conservatives or have you forgotten ? \n",
            "Although your chums complain about the standard of subsidised food in Westminster, it appears Humble Pie hasn't made the menu ? #COVID19\n",
            "0\n",
            "Negative\n",
            "\n",
            "\n",
            "#Corona Info for #Nepal:\n",
            "New Cases: 24\n",
            "Today Recovery: 15\n",
            "Today Deaths: 0\n",
            "Total Active Cases: 104\n",
            "Total Cases: 979333\n",
            "Total Recovery: 967277\n",
            "Total Deaths: 11952\n",
            "#Coronavirus  #Covid19 #Covid_19 #SARSCoV2 #StaySafe \n",
            "\n",
            "Source: 'CoronaTrackerNepal_bot' #Telegram.\n",
            "1\n",
            "Positive\n",
            "\n",
            "\n",
            "The Daily Brief for June 17, 2022. #UKRAINE | #JANUARY6 | #ECONOMY | #COVID19 | #WORLDTRADE | #LEBANON | #WESTBANK | #NIGER | #JAPAN | #POLLUTION | #INDIA | #CHINA | #WIKILEAKS | #BUSINESS | #BASKETBALL | #SOCCER | #MUSIC | #TODAYINHISTORY https://t.co/7jp9ye4w2O\n",
            "1\n",
            "Positive\n",
            "\n",
            "\n",
            "#BritCham #China on the Today program (20 minutes 20 seconds) on restoring confidence in the China market. @BritChamChina #COVID19  \n",
            "https://t.co/TTa95ia30u\n",
            "1\n",
            "Positive\n",
            "\n",
            "\n",
            "Content analysis:\n",
            "This article scores 65/100. The complete report can be viewed here: https://t.co/tyznbiPkNI\n",
            "(I'm a bot)\n",
            "\n",
            "#Gujaratriots #Central #COVID19 https://t.co/IADBxpdpVK\n",
            "0\n",
            "Negative\n",
            "\n",
            "\n",
            "Coronavirus (#COVID19) Infection Survey, UK: 17 June 2022.\n",
            "\n",
            "'Increase in the percentage testing positive for #COVID19 in England, Wales, Scotland and Northern Ireland likely caused by infections compatible with Omicron variants BA.4 and BA.5.'\n",
            "\n",
            "https://t.co/5oNomrjE33 https://t.co/naIBAOe6ay https://t.co/7XyAq1CXq5\n",
            "0\n",
            "Negative\n",
            "\n",
            "\n"
          ]
        }
      ],
      "source": [
        "for SingleTweet in TweetData:\n",
        "    text = api.get_status(id=SingleTweet.id, tweet_mode='extended').full_text\n",
        "    X_Tweet = np.zeros((1, 3))\n",
        "    X_Tweet[0, :] = extract_features(text, freqs)\n",
        "    y_pred_raw = model.predict(X_Tweet, w, b)\n",
        "    print(text)\n",
        "    y_pred = threshold(y_pred_raw)\n",
        "    print(y_pred[0])\n",
        "    if y_pred[0] == 1:\n",
        "      print(\"Positive\\n\\n\")\n",
        "    else:\n",
        "      print(\"Negative\\n\\n\")\n"
      ]
    },
    {
      "cell_type": "code",
      "source": [
        "text = \"I'm Happy today\"\n",
        "X_Tweet = np.zeros((1, 3))\n",
        "X_Tweet[0, :] = extract_features(text, freqs)\n",
        "y_pred_raw = model.predict(X_Tweet, w, b)\n",
        "print(text)\n",
        "y_pred = threshold(y_pred_raw)\n",
        "print(y_pred[0])\n",
        "if y_pred[0] == 1:\n",
        "  print(\"Positive\\n\\n\")\n",
        "else:\n",
        "  print(\"Negative\\n\\n\")"
      ],
      "metadata": {
        "colab": {
          "base_uri": "https://localhost:8080/"
        },
        "id": "lLk_m0RqOc6I",
        "outputId": "081619ac-83dd-4376-82b2-e9ff5eb44bf7"
      },
      "execution_count": null,
      "outputs": [
        {
          "output_type": "stream",
          "name": "stdout",
          "text": [
            "I'm Happy today\n",
            "1\n",
            "Positive\n",
            "\n",
            "\n"
          ]
        }
      ]
    }
  ],
  "metadata": {
    "colab": {
      "collapsed_sections": [],
      "provenance": [],
      "include_colab_link": true
    },
    "interpreter": {
      "hash": "81794d4967e6c3204c66dcd87b604927b115b27c00565d3d43f05ba2f3a2cb0d"
    },
    "kernelspec": {
      "display_name": "Python 3.9.5 64-bit",
      "language": "python",
      "name": "python3"
    },
    "language_info": {
      "codemirror_mode": {
        "name": "ipython",
        "version": 3
      },
      "file_extension": ".py",
      "mimetype": "text/x-python",
      "name": "python",
      "nbconvert_exporter": "python",
      "pygments_lexer": "ipython3",
      "version": "3.9.5"
    }
  },
  "nbformat": 4,
  "nbformat_minor": 0
}